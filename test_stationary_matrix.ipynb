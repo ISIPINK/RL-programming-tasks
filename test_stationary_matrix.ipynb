{
 "cells": [
  {
   "cell_type": "markdown",
   "metadata": {},
   "source": [
    "We conjecture that there exists a stochastic matrix $F(f) \\neq P^*(f)$ for any finite MDP such that:\n",
    "$$\n",
    "P^*(f) = \\lim_{n \\to \\infty} P^n(f)F(f).\n",
    "$$ \n",
    "\n",
    "We call this the stripping property. (F for forgetting) The intuition is that $F(f)$ removes(strips) just enough information from $P^n(f)$ to make \n",
    "it converge to the cesaro limit. $F(f)$ isn't unique because the stripping property is preserved with multiplication \n",
    "with $P(f)$ or matrix multiplication. If a cheap stripping matrix exists then approximating $P^*(f)$ is cheap, because $P^{n}(f)$ can \n",
    "be calculated cheaply with square and multiply or as operator through unbiased sparsification. We  conjecture that:\n",
    "$$\n",
    "F(f) = \\frac{1}{l} \\sum_{k=0}^{l-1} P^{k}(f)= \\frac{1}{l}(I-P^{l})(I-P)^{-1}.\n",
    "$$ \n",
    "with $l$ is  the least common multiple of the periods of irreducible communication classes of P(f) and if $(I-P)^{-1}$ exists.\n",
    "In this problem $l=1$ because the only irreducible classes possibles are the holes, the goal and \n",
    "one that contain \"wall turn\" backs."
   ]
  },
  {
   "cell_type": "code",
   "execution_count": 4,
   "metadata": {},
   "outputs": [],
   "source": [
    "from scipy.sparse import dok_array,eye\n",
    "from scipy.sparse.linalg import norm \n",
    "from plt_utils import *\n",
    "\n",
    "def power(P,n):\n",
    "   if n%2==0 and n!=0:\n",
    "        Q = power(P,n/2)\n",
    "        return Q@Q \n",
    "   return power(P,n-1)@P if n!=0 else eye(P.shape[0])\n",
    "\n",
    "def power_convergence(P,max_iter,eps =10**(-12)):\n",
    "    Q=P\n",
    "    for _ in range(max_iter):\n",
    "        Qnew = Q@Q\n",
    "        Qnew1 = P@Qnew\n",
    "        if norm(Q-Qnew)<eps and norm(Qnew-Qnew1):break\n",
    "        Q = Qnew1\n",
    "    return Q \n",
    "\n",
    "def stripping_matrix(P,lcm_periods):\n",
    "    return sum(power(P,j) for j in range(lcm_periods))/lcm_periods\n",
    "\n",
    "def stationary_matrix(P,lcm_periods,iter=15, eps = 10**(-10)):\n",
    "    Pn = power_convergence(P,iter,eps)\n",
    "    Pn.data[Pn.data < eps] = 0\n",
    "    Pn.eliminate_zeros()\n",
    "    return Pn@stripping_matrix(P,lcm_periods)  \n",
    "\n",
    "def stationary_matrix2(P,iter):\n",
    "    I = eye(P.shape[0])\n",
    "    B = I\n",
    "    BB = [B]\n",
    "    for i in range(1,iter):\n",
    "        B = (i*P@B + I)/(i+1)\n",
    "        BB.append(B)\n",
    "    return BB\n",
    "\n",
    "def stationary_matrix3(P):\n",
    "    return stationary_matrix(0.9*P+0.1*eye(P.shape[0]),1,15)"
   ]
  },
  {
   "cell_type": "code",
   "execution_count": 5,
   "metadata": {},
   "outputs": [
    {
     "name": "stdout",
     "output_type": "stream",
     "text": [
      "[[0.   0.3  0.7  0.   0.   0.   0.   0.   0.  ]\n",
      " [0.   0.   0.   1.   0.   0.   0.   0.   0.  ]\n",
      " [0.   0.   0.   1.   0.   0.   0.   0.   0.  ]\n",
      " [0.   0.   0.   0.   1.   0.   0.   0.   0.  ]\n",
      " [1.   0.   0.   0.   0.   0.   0.   0.   0.  ]\n",
      " [0.25 0.25 0.   0.   0.   0.   0.   0.25 0.25]\n",
      " [0.   0.   0.   0.5  0.   0.5  0.   0.   0.  ]\n",
      " [0.   0.   0.   0.   0.   0.   0.   0.   1.  ]\n",
      " [0.   0.   0.   0.   0.   0.   0.   1.   0.  ]]\n"
     ]
    }
   ],
   "source": [
    "P1 = dok_array((9,9))\n",
    "P1[0,1] = 0.3\n",
    "P1[0,2]= 0.7\n",
    "P1[1,3] =1\n",
    "P1[2,3]=1\n",
    "P1[3,4]=1\n",
    "P1[4,0] =1\n",
    "P1[5,0] = 0.25\n",
    "P1[5,1] = 0.25\n",
    "P1[5,7] = 0.25\n",
    "P1[5,8] = 0.25\n",
    "P1[6,5] = 0.5\n",
    "P1[6,3] = 0.5\n",
    "P1[7,8] = 1\n",
    "P1[8,7] = 1\n",
    "print(P1.toarray())"
   ]
  },
  {
   "cell_type": "code",
   "execution_count": 6,
   "metadata": {},
   "outputs": [
    {
     "data": {
      "application/vnd.jupyter.widget-view+json": {
       "model_id": "f1448649616946be9c61f93ca60bd44d",
       "version_major": 2,
       "version_minor": 0
      },
      "text/plain": [
       "interactive(children=(IntSlider(value=0, description='index', max=1), Output()), _dom_classes=('widget-interac…"
      ]
     },
     "metadata": {},
     "output_type": "display_data"
    },
    {
     "data": {
      "application/vnd.jupyter.widget-view+json": {
       "model_id": "52bc2cf3b4e445b88ec5946cb86bff96",
       "version_major": 2,
       "version_minor": 0
      },
      "text/plain": [
       "interactive(children=(IntSlider(value=0, description='index', max=999), Output()), _dom_classes=('widget-inter…"
      ]
     },
     "metadata": {},
     "output_type": "display_data"
    }
   ],
   "source": [
    "B1 = stationary_matrix(P1,4,2)\n",
    "B2 = stationary_matrix3(P1)\n",
    "BB1 = stationary_matrix2(P1,1000)\n",
    "intPP([B1, B2])\n",
    "intPP(BB1)"
   ]
  },
  {
   "cell_type": "code",
   "execution_count": 11,
   "metadata": {},
   "outputs": [
    {
     "data": {
      "application/vnd.jupyter.widget-view+json": {
       "model_id": "7af05b64dd4f4290bd3dc6f5713018ad",
       "version_major": 2,
       "version_minor": 0
      },
      "text/plain": [
       "interactive(children=(IntSlider(value=0, description='index', max=99), Output()), _dom_classes=('widget-intera…"
      ]
     },
     "metadata": {},
     "output_type": "display_data"
    }
   ],
   "source": [
    "intPP([power(0.2*P1+0.8*eye(P1.shape[0]),j) for j in range(100)])"
   ]
  }
 ],
 "metadata": {
  "kernelspec": {
   "display_name": "Python 3",
   "language": "python",
   "name": "python3"
  },
  "language_info": {
   "codemirror_mode": {
    "name": "ipython",
    "version": 3
   },
   "file_extension": ".py",
   "mimetype": "text/x-python",
   "name": "python",
   "nbconvert_exporter": "python",
   "pygments_lexer": "ipython3",
   "version": "3.10.11"
  }
 },
 "nbformat": 4,
 "nbformat_minor": 2
}
