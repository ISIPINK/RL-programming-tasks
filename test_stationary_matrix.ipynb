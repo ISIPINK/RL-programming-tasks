{
 "cells": [
  {
   "cell_type": "code",
   "execution_count": 2,
   "metadata": {},
   "outputs": [],
   "source": [
    "from scipy.sparse import dok_array,eye\n",
    "from scipy.sparse.linalg import norm \n",
    "from plt_utils import *\n",
    "\n",
    "def power(P,n):\n",
    "   if n%2==0 and n!=0:\n",
    "        Q = power(P,n/2)\n",
    "        return Q@Q \n",
    "   return power(P,n-1)@P if n!=0 else eye(P.shape[0])\n",
    "\n",
    "def power_convergence(P,max_iter,eps =10**(-12)):\n",
    "    Q=P\n",
    "    for _ in range(max_iter):\n",
    "        Qnew = Q@Q\n",
    "        Qnew1 = P@Qnew\n",
    "        if norm(Q-Qnew)<eps and norm(Qnew-Qnew1):break\n",
    "        Q = Qnew1\n",
    "    return Q \n",
    "\n",
    "def stripping_matrix(P,lcm_periods):\n",
    "    return sum(power(P,j) for j in range(lcm_periods))/lcm_periods\n",
    "\n",
    "def stationary_matrix(P,lcm_periods,iter=15, eps = 10**(-10)):\n",
    "    Pn = power_convergence(P,iter,eps)\n",
    "    Pn.data[Pn.data < eps] = 0\n",
    "    Pn.eliminate_zeros()\n",
    "    return Pn@stripping_matrix(P,lcm_periods)  \n",
    "\n",
    "def stationary_matrix2(P,iter):\n",
    "    I = eye(P.shape[0])\n",
    "    B = I\n",
    "    BB = [B]\n",
    "    for i in range(1,iter):\n",
    "        B = (i*P@B + I)/(i+1)\n",
    "        BB.append(B)\n",
    "    return BB"
   ]
  },
  {
   "cell_type": "code",
   "execution_count": 3,
   "metadata": {},
   "outputs": [
    {
     "name": "stdout",
     "output_type": "stream",
     "text": [
      "[[0.   0.3  0.7  0.   0.   0.   0.   0.   0.  ]\n",
      " [0.   0.   0.   1.   0.   0.   0.   0.   0.  ]\n",
      " [0.   0.   0.   1.   0.   0.   0.   0.   0.  ]\n",
      " [0.   0.   0.   0.   1.   0.   0.   0.   0.  ]\n",
      " [1.   0.   0.   0.   0.   0.   0.   0.   0.  ]\n",
      " [0.25 0.25 0.   0.   0.   0.   0.   0.25 0.25]\n",
      " [0.   0.   0.   0.5  0.   0.5  0.   0.   0.  ]\n",
      " [0.   0.   0.   0.   0.   0.   0.   0.   1.  ]\n",
      " [0.   0.   0.   0.   0.   0.   0.   1.   0.  ]]\n"
     ]
    }
   ],
   "source": [
    "P1 = dok_array((9,9))\n",
    "P1[0,1] = 0.3\n",
    "P1[0,2]= 0.7\n",
    "P1[1,3] =1\n",
    "P1[2,3]=1\n",
    "P1[3,4]=1\n",
    "P1[4,0] =1\n",
    "P1[5,0] = 0.25\n",
    "P1[5,1] = 0.25\n",
    "P1[5,7] = 0.25\n",
    "P1[5,8] = 0.25\n",
    "P1[6,5] = 0.5\n",
    "P1[6,3] = 0.5\n",
    "P1[7,8] = 1\n",
    "P1[8,7] = 1\n",
    "print(P1.toarray())"
   ]
  },
  {
   "cell_type": "code",
   "execution_count": 4,
   "metadata": {},
   "outputs": [
    {
     "data": {
      "image/png": "[encoded data removed]",
      "text/plain": [
       "<Figure size 1200x400 with 2 Axes>"
      ]
     },
     "metadata": {},
     "output_type": "display_data"
    },
    {
     "data": {
      "application/vnd.jupyter.widget-view+json": {
       "model_id": "e473068b02e74a42bd7dba2bffdb5b1d",
       "version_major": 2,
       "version_minor": 0
      },
      "text/plain": [
       "interactive(children=(IntSlider(value=0, description='index', max=999), Output()), _dom_classes=('widget-inter…"
      ]
     },
     "metadata": {},
     "output_type": "display_data"
    }
   ],
   "source": [
    "B1 = stationary_matrix(P1,4,2)\n",
    "BB1 = stationary_matrix2(P1,1000)\n",
    "visualize_array(B1)\n",
    "intPP(BB1)"
   ]
  }
 ],
 "metadata": {
  "kernelspec": {
   "display_name": "Python 3",
   "language": "python",
   "name": "python3"
  },
  "language_info": {
   "codemirror_mode": {
    "name": "ipython",
    "version": 3
   },
   "file_extension": ".py",
   "mimetype": "text/x-python",
   "name": "python",
   "nbconvert_exporter": "python",
   "pygments_lexer": "ipython3",
   "version": "3.10.11"
  }
 },
 "nbformat": 4,
 "nbformat_minor": 2
}
